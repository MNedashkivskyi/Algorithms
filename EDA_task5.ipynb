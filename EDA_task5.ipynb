{
  "cells": [
    {
      "cell_type": "markdown",
      "metadata": {
        "id": "WpFGG9k10j9R"
      },
      "source": [
        "## Eksploracyjna analiza danych - temat 5"
      ]
    },
    {
      "cell_type": "markdown",
      "metadata": {
        "id": "wpvKyZQs0j9d"
      },
      "source": [
        "**Temat:**\n",
        "*„Mamy co prawda dodatkowe benefity dla naszych najlepszych klientów, ale może dałoby się ustalić kto potencjalnie jest skłonny wydawać u nas więcej?.”*"
      ]
    },
    {
      "cell_type": "markdown",
      "metadata": {
        "id": "JelUeYI40j9f"
      },
      "source": [
        "> Celem jest identyfikacja na podstawie historycznych zakupów, czy w następnych okresie klient kupi więcej.\n",
        "\n"
      ]
    },
    {
      "cell_type": "markdown",
      "metadata": {
        "id": "X65xyp5M0j9h"
      },
      "source": [
        "**Analiza zadania:**\n",
        "\n",
        "*   co to znaczy klient kupi \"więcej\"?  \n",
        "\n",
        "1.   w następnym analizowanym miesiącu klient kupi więcej o *X* zł (wstępnie 100zł ale jeszcze do uzgodnienia z zamawiającym) niż średnia wydatków z wszystkich sesji,  które klient w okresie historycznym odbył? \n",
        "2.   a może klient zapłaci o *X* zł więcej od tego co średnio wydawał w miesiącu (na podstawie danych historycznych)\n",
        "\n",
        "Pytanie czy w przypadku pkt. 1 i 2, należy analizować także sesje nie zakończone zakupem?\n",
        "Wszystkie trzy zagadnienia można potraktować jako zadanie klasyfikacji.\n",
        "\n",
        "Alternatywnie w zadaniu regresji można byłoby przewidywać całkowitą sumę wydaną w kolejnym okresie, albo różnicę pomiędzy średnimi historycznymi wydatkami a przyszłymi.\n",
        "\n",
        "Innym pomysłem niż analizowanie wydawanych kwot jest operowanie na liczbie zakupów. Można wówczas przewidywać czy w następnym analizowanym okresie, klient kupi produkt (klasyfikacja), albo ile ich ich kupi (regresja). \n",
        "Jednak takie podejście jest mniej informatywne dla zamawiającego.\n",
        "\n",
        "\n",
        "\n",
        "*   Doprecyzowania z zamawiającym wymaga także kwestia jak długi horyzont danych historycznych możemy wykorzystać do modelowania i na ile miesięcy na przyszłość mamy dokonywać predykcji\n",
        "\n"
      ]
    },
    {
      "cell_type": "markdown",
      "metadata": {
        "id": "8Sg7RlKl0j9i"
      },
      "source": [
        "Sugerujemy, że najlepszym rozwiązaniem będzie wykonanie **zadania klasyfikacji, gdzie przewidywać będziemy czy klient w przyszłości zrobi zakupy o *X* zł większe niż średnio w przeszłości**. Szczegóły zaznaczone powyżej dotyczące np. horyzontu czasu czy kwestii uwzględniania bądź nie sesji niezakończonych zakupem, zostaną omówione na kolejnym spotkaniu z zamawiającym.\n",
        "\n",
        "Wówczas też nastąpi przekazanie dodatkowych danych."
      ]
    },
    {
      "cell_type": "markdown",
      "source": [
        "**Kryteria sukcesu**\n",
        "\n",
        "Celem minimum jest stworzenie klasyfikatora, który będzie lepszy niż losowy. \n",
        "\n",
        "**Metryka biznesowa**\n",
        "Skuteczność modelu powinna wynieść więcej niż 50%. \n",
        "\n",
        "**Metryka analityczna**\n",
        "W ramach modelowania analizowana będzie zbalansowana skuteczność (\"balanced accuracy\") oraz AUC."
      ],
      "metadata": {
        "id": "Qzfsmt9dA6Jo"
      }
    },
    {
      "cell_type": "markdown",
      "source": [
        "Poniższe analizy zostały wykonane na podstawie pierwotnie dostarczonego zbioru danych.\n",
        "Warto też nadmienić, że podczas spotkania otrzymaliśmy informację, że udzielane dotychczas rabaty mają charakter losowy."
      ],
      "metadata": {
        "id": "QVL4xbyVCZKe"
      }
    },
    {
      "cell_type": "markdown",
      "source": [
        "# Część analityczna"
      ],
      "metadata": {
        "id": "YgcbMw8UCbcn"
      }
    },
    {
      "cell_type": "markdown",
      "metadata": {
        "id": "EMIqEHiZ0j9j"
      },
      "source": [
        "Import pakietów"
      ]
    },
    {
      "cell_type": "code",
      "execution_count": null,
      "metadata": {
        "id": "72ODfQuL0j9l"
      },
      "outputs": [],
      "source": [
        "import numpy as np\n",
        "import pandas as pd\n",
        "import sklearn\n",
        "import matplotlib.pyplot as plt\n",
        "import seaborn as sns\n",
        "import warnings\n",
        "warnings.filterwarnings('ignore')"
      ]
    },
    {
      "cell_type": "markdown",
      "metadata": {
        "id": "mJey2WFp0j9p"
      },
      "source": [
        "Wczytanie pliku *sessions* oraz analiza podstawowych charakterystyk."
      ]
    },
    {
      "cell_type": "code",
      "execution_count": null,
      "metadata": {
        "colab": {
          "base_uri": "https://localhost:8080/",
          "height": 362
        },
        "id": "V-jAH5ks0j9r",
        "outputId": "a7b730e9-f93c-41a0-81f3-f2c7953bfb23"
      },
      "outputs": [
        {
          "output_type": "error",
          "ename": "ValueError",
          "evalue": "ignored",
          "traceback": [
            "\u001b[0;31m---------------------------------------------------------------------------\u001b[0m",
            "\u001b[0;31mValueError\u001b[0m                                Traceback (most recent call last)",
            "\u001b[0;32m<ipython-input-5-c571c8dcb4b6>\u001b[0m in \u001b[0;36m<module>\u001b[0;34m()\u001b[0m\n\u001b[0;32m----> 1\u001b[0;31m \u001b[0msession_df\u001b[0m \u001b[0;34m=\u001b[0m \u001b[0mpd\u001b[0m\u001b[0;34m.\u001b[0m\u001b[0mread_json\u001b[0m\u001b[0;34m(\u001b[0m\u001b[0;34m'/content/drive/My Drive/IUM/data/sessions.jsonl'\u001b[0m\u001b[0;34m,\u001b[0m \u001b[0mlines\u001b[0m\u001b[0;34m=\u001b[0m\u001b[0;32mTrue\u001b[0m\u001b[0;34m)\u001b[0m\u001b[0;34m\u001b[0m\u001b[0;34m\u001b[0m\u001b[0m\n\u001b[0m\u001b[1;32m      2\u001b[0m \u001b[0;34m\u001b[0m\u001b[0m\n\u001b[1;32m      3\u001b[0m \u001b[0mprint\u001b[0m\u001b[0;34m(\u001b[0m\u001b[0msession_df\u001b[0m\u001b[0;34m.\u001b[0m\u001b[0minfo\u001b[0m\u001b[0;34m(\u001b[0m\u001b[0;34m)\u001b[0m\u001b[0;34m,\u001b[0m \u001b[0mend\u001b[0m\u001b[0;34m=\u001b[0m\u001b[0;34m'\\n\\n'\u001b[0m\u001b[0;34m)\u001b[0m\u001b[0;34m\u001b[0m\u001b[0;34m\u001b[0m\u001b[0m\n\u001b[1;32m      4\u001b[0m \u001b[0msession_df\u001b[0m\u001b[0;34m.\u001b[0m\u001b[0mhead\u001b[0m\u001b[0;34m(\u001b[0m\u001b[0;34m)\u001b[0m\u001b[0;34m\u001b[0m\u001b[0;34m\u001b[0m\u001b[0m\n",
            "\u001b[0;32m/usr/local/lib/python3.7/dist-packages/pandas/util/_decorators.py\u001b[0m in \u001b[0;36mwrapper\u001b[0;34m(*args, **kwargs)\u001b[0m\n\u001b[1;32m    205\u001b[0m                 \u001b[0;32melse\u001b[0m\u001b[0;34m:\u001b[0m\u001b[0;34m\u001b[0m\u001b[0;34m\u001b[0m\u001b[0m\n\u001b[1;32m    206\u001b[0m                     \u001b[0mkwargs\u001b[0m\u001b[0;34m[\u001b[0m\u001b[0mnew_arg_name\u001b[0m\u001b[0;34m]\u001b[0m \u001b[0;34m=\u001b[0m \u001b[0mnew_arg_value\u001b[0m\u001b[0;34m\u001b[0m\u001b[0;34m\u001b[0m\u001b[0m\n\u001b[0;32m--> 207\u001b[0;31m             \u001b[0;32mreturn\u001b[0m \u001b[0mfunc\u001b[0m\u001b[0;34m(\u001b[0m\u001b[0;34m*\u001b[0m\u001b[0margs\u001b[0m\u001b[0;34m,\u001b[0m \u001b[0;34m**\u001b[0m\u001b[0mkwargs\u001b[0m\u001b[0;34m)\u001b[0m\u001b[0;34m\u001b[0m\u001b[0;34m\u001b[0m\u001b[0m\n\u001b[0m\u001b[1;32m    208\u001b[0m \u001b[0;34m\u001b[0m\u001b[0m\n\u001b[1;32m    209\u001b[0m         \u001b[0;32mreturn\u001b[0m \u001b[0mcast\u001b[0m\u001b[0;34m(\u001b[0m\u001b[0mF\u001b[0m\u001b[0;34m,\u001b[0m \u001b[0mwrapper\u001b[0m\u001b[0;34m)\u001b[0m\u001b[0;34m\u001b[0m\u001b[0;34m\u001b[0m\u001b[0m\n",
            "\u001b[0;32m/usr/local/lib/python3.7/dist-packages/pandas/util/_decorators.py\u001b[0m in \u001b[0;36mwrapper\u001b[0;34m(*args, **kwargs)\u001b[0m\n\u001b[1;32m    309\u001b[0m                     \u001b[0mstacklevel\u001b[0m\u001b[0;34m=\u001b[0m\u001b[0mstacklevel\u001b[0m\u001b[0;34m,\u001b[0m\u001b[0;34m\u001b[0m\u001b[0;34m\u001b[0m\u001b[0m\n\u001b[1;32m    310\u001b[0m                 )\n\u001b[0;32m--> 311\u001b[0;31m             \u001b[0;32mreturn\u001b[0m \u001b[0mfunc\u001b[0m\u001b[0;34m(\u001b[0m\u001b[0;34m*\u001b[0m\u001b[0margs\u001b[0m\u001b[0;34m,\u001b[0m \u001b[0;34m**\u001b[0m\u001b[0mkwargs\u001b[0m\u001b[0;34m)\u001b[0m\u001b[0;34m\u001b[0m\u001b[0;34m\u001b[0m\u001b[0m\n\u001b[0m\u001b[1;32m    312\u001b[0m \u001b[0;34m\u001b[0m\u001b[0m\n\u001b[1;32m    313\u001b[0m         \u001b[0;32mreturn\u001b[0m \u001b[0mwrapper\u001b[0m\u001b[0;34m\u001b[0m\u001b[0;34m\u001b[0m\u001b[0m\n",
            "\u001b[0;32m/usr/local/lib/python3.7/dist-packages/pandas/io/json/_json.py\u001b[0m in \u001b[0;36mread_json\u001b[0;34m(path_or_buf, orient, typ, dtype, convert_axes, convert_dates, keep_default_dates, numpy, precise_float, date_unit, encoding, encoding_errors, lines, chunksize, compression, nrows, storage_options)\u001b[0m\n\u001b[1;32m    612\u001b[0m \u001b[0;34m\u001b[0m\u001b[0m\n\u001b[1;32m    613\u001b[0m     \u001b[0;32mwith\u001b[0m \u001b[0mjson_reader\u001b[0m\u001b[0;34m:\u001b[0m\u001b[0;34m\u001b[0m\u001b[0;34m\u001b[0m\u001b[0m\n\u001b[0;32m--> 614\u001b[0;31m         \u001b[0;32mreturn\u001b[0m \u001b[0mjson_reader\u001b[0m\u001b[0;34m.\u001b[0m\u001b[0mread\u001b[0m\u001b[0;34m(\u001b[0m\u001b[0;34m)\u001b[0m\u001b[0;34m\u001b[0m\u001b[0;34m\u001b[0m\u001b[0m\n\u001b[0m\u001b[1;32m    615\u001b[0m \u001b[0;34m\u001b[0m\u001b[0m\n\u001b[1;32m    616\u001b[0m \u001b[0;34m\u001b[0m\u001b[0m\n",
            "\u001b[0;32m/usr/local/lib/python3.7/dist-packages/pandas/io/json/_json.py\u001b[0m in \u001b[0;36mread\u001b[0;34m(self)\u001b[0m\n\u001b[1;32m    744\u001b[0m                 \u001b[0mdata\u001b[0m \u001b[0;34m=\u001b[0m \u001b[0mensure_str\u001b[0m\u001b[0;34m(\u001b[0m\u001b[0mself\u001b[0m\u001b[0;34m.\u001b[0m\u001b[0mdata\u001b[0m\u001b[0;34m)\u001b[0m\u001b[0;34m\u001b[0m\u001b[0;34m\u001b[0m\u001b[0m\n\u001b[1;32m    745\u001b[0m                 \u001b[0mdata_lines\u001b[0m \u001b[0;34m=\u001b[0m \u001b[0mdata\u001b[0m\u001b[0;34m.\u001b[0m\u001b[0msplit\u001b[0m\u001b[0;34m(\u001b[0m\u001b[0;34m\"\\n\"\u001b[0m\u001b[0;34m)\u001b[0m\u001b[0;34m\u001b[0m\u001b[0;34m\u001b[0m\u001b[0m\n\u001b[0;32m--> 746\u001b[0;31m                 \u001b[0mobj\u001b[0m \u001b[0;34m=\u001b[0m \u001b[0mself\u001b[0m\u001b[0;34m.\u001b[0m\u001b[0m_get_object_parser\u001b[0m\u001b[0;34m(\u001b[0m\u001b[0mself\u001b[0m\u001b[0;34m.\u001b[0m\u001b[0m_combine_lines\u001b[0m\u001b[0;34m(\u001b[0m\u001b[0mdata_lines\u001b[0m\u001b[0;34m)\u001b[0m\u001b[0;34m)\u001b[0m\u001b[0;34m\u001b[0m\u001b[0;34m\u001b[0m\u001b[0m\n\u001b[0m\u001b[1;32m    747\u001b[0m         \u001b[0;32melse\u001b[0m\u001b[0;34m:\u001b[0m\u001b[0;34m\u001b[0m\u001b[0;34m\u001b[0m\u001b[0m\n\u001b[1;32m    748\u001b[0m             \u001b[0mobj\u001b[0m \u001b[0;34m=\u001b[0m \u001b[0mself\u001b[0m\u001b[0;34m.\u001b[0m\u001b[0m_get_object_parser\u001b[0m\u001b[0;34m(\u001b[0m\u001b[0mself\u001b[0m\u001b[0;34m.\u001b[0m\u001b[0mdata\u001b[0m\u001b[0;34m)\u001b[0m\u001b[0;34m\u001b[0m\u001b[0;34m\u001b[0m\u001b[0m\n",
            "\u001b[0;32m/usr/local/lib/python3.7/dist-packages/pandas/io/json/_json.py\u001b[0m in \u001b[0;36m_get_object_parser\u001b[0;34m(self, json)\u001b[0m\n\u001b[1;32m    768\u001b[0m         \u001b[0mobj\u001b[0m \u001b[0;34m=\u001b[0m \u001b[0;32mNone\u001b[0m\u001b[0;34m\u001b[0m\u001b[0;34m\u001b[0m\u001b[0m\n\u001b[1;32m    769\u001b[0m         \u001b[0;32mif\u001b[0m \u001b[0mtyp\u001b[0m \u001b[0;34m==\u001b[0m \u001b[0;34m\"frame\"\u001b[0m\u001b[0;34m:\u001b[0m\u001b[0;34m\u001b[0m\u001b[0;34m\u001b[0m\u001b[0m\n\u001b[0;32m--> 770\u001b[0;31m             \u001b[0mobj\u001b[0m \u001b[0;34m=\u001b[0m \u001b[0mFrameParser\u001b[0m\u001b[0;34m(\u001b[0m\u001b[0mjson\u001b[0m\u001b[0;34m,\u001b[0m \u001b[0;34m**\u001b[0m\u001b[0mkwargs\u001b[0m\u001b[0;34m)\u001b[0m\u001b[0;34m.\u001b[0m\u001b[0mparse\u001b[0m\u001b[0;34m(\u001b[0m\u001b[0;34m)\u001b[0m\u001b[0;34m\u001b[0m\u001b[0;34m\u001b[0m\u001b[0m\n\u001b[0m\u001b[1;32m    771\u001b[0m \u001b[0;34m\u001b[0m\u001b[0m\n\u001b[1;32m    772\u001b[0m         \u001b[0;32mif\u001b[0m \u001b[0mtyp\u001b[0m \u001b[0;34m==\u001b[0m \u001b[0;34m\"series\"\u001b[0m \u001b[0;32mor\u001b[0m \u001b[0mobj\u001b[0m \u001b[0;32mis\u001b[0m \u001b[0;32mNone\u001b[0m\u001b[0;34m:\u001b[0m\u001b[0;34m\u001b[0m\u001b[0;34m\u001b[0m\u001b[0m\n",
            "\u001b[0;32m/usr/local/lib/python3.7/dist-packages/pandas/io/json/_json.py\u001b[0m in \u001b[0;36mparse\u001b[0;34m(self)\u001b[0m\n\u001b[1;32m    883\u001b[0m \u001b[0;34m\u001b[0m\u001b[0m\n\u001b[1;32m    884\u001b[0m         \u001b[0;32melse\u001b[0m\u001b[0;34m:\u001b[0m\u001b[0;34m\u001b[0m\u001b[0;34m\u001b[0m\u001b[0m\n\u001b[0;32m--> 885\u001b[0;31m             \u001b[0mself\u001b[0m\u001b[0;34m.\u001b[0m\u001b[0m_parse_no_numpy\u001b[0m\u001b[0;34m(\u001b[0m\u001b[0;34m)\u001b[0m\u001b[0;34m\u001b[0m\u001b[0;34m\u001b[0m\u001b[0m\n\u001b[0m\u001b[1;32m    886\u001b[0m \u001b[0;34m\u001b[0m\u001b[0m\n\u001b[1;32m    887\u001b[0m         \u001b[0;32mif\u001b[0m \u001b[0mself\u001b[0m\u001b[0;34m.\u001b[0m\u001b[0mobj\u001b[0m \u001b[0;32mis\u001b[0m \u001b[0;32mNone\u001b[0m\u001b[0;34m:\u001b[0m\u001b[0;34m\u001b[0m\u001b[0;34m\u001b[0m\u001b[0m\n",
            "\u001b[0;32m/usr/local/lib/python3.7/dist-packages/pandas/io/json/_json.py\u001b[0m in \u001b[0;36m_parse_no_numpy\u001b[0;34m(self)\u001b[0m\n\u001b[1;32m   1138\u001b[0m         \u001b[0;32mif\u001b[0m \u001b[0morient\u001b[0m \u001b[0;34m==\u001b[0m \u001b[0;34m\"columns\"\u001b[0m\u001b[0;34m:\u001b[0m\u001b[0;34m\u001b[0m\u001b[0;34m\u001b[0m\u001b[0m\n\u001b[1;32m   1139\u001b[0m             self.obj = DataFrame(\n\u001b[0;32m-> 1140\u001b[0;31m                 \u001b[0mloads\u001b[0m\u001b[0;34m(\u001b[0m\u001b[0mjson\u001b[0m\u001b[0;34m,\u001b[0m \u001b[0mprecise_float\u001b[0m\u001b[0;34m=\u001b[0m\u001b[0mself\u001b[0m\u001b[0;34m.\u001b[0m\u001b[0mprecise_float\u001b[0m\u001b[0;34m)\u001b[0m\u001b[0;34m,\u001b[0m \u001b[0mdtype\u001b[0m\u001b[0;34m=\u001b[0m\u001b[0;32mNone\u001b[0m\u001b[0;34m\u001b[0m\u001b[0;34m\u001b[0m\u001b[0m\n\u001b[0m\u001b[1;32m   1141\u001b[0m             )\n\u001b[1;32m   1142\u001b[0m         \u001b[0;32melif\u001b[0m \u001b[0morient\u001b[0m \u001b[0;34m==\u001b[0m \u001b[0;34m\"split\"\u001b[0m\u001b[0;34m:\u001b[0m\u001b[0;34m\u001b[0m\u001b[0;34m\u001b[0m\u001b[0m\n",
            "\u001b[0;31mValueError\u001b[0m: Expected object or value"
          ]
        }
      ],
      "source": [
        "session_df = pd.read_json('/content/drive/My Drive/IUM/data/sessions.jsonl', lines=True)\n",
        "\n",
        "print(session_df.info(), end='\\n\\n')\n",
        "session_df.head()"
      ]
    },
    {
      "cell_type": "code",
      "execution_count": null,
      "metadata": {
        "id": "r38E78lw0j9u"
      },
      "outputs": [],
      "source": [
        "session_df['event_type']=session_df['event_type'].map({'VIEW_PRODUCT': 0 , 'BUY_PRODUCT':1})"
      ]
    },
    {
      "cell_type": "code",
      "execution_count": null,
      "metadata": {
        "id": "6UJpSWVT0j9w"
      },
      "outputs": [],
      "source": [
        "product_df = pd.read_json('/content/drive/My Drive/IUM/data/products.jsonl', lines=True)\n",
        "\n",
        "print(product_df.info(), end='\\n\\n')\n",
        "product_df.head()"
      ]
    },
    {
      "cell_type": "code",
      "execution_count": null,
      "metadata": {
        "id": "coCf3axa0j9x"
      },
      "outputs": [],
      "source": [
        "df=session_df.merge(product_df, how='inner', on='product_id')"
      ]
    },
    {
      "cell_type": "code",
      "execution_count": null,
      "metadata": {
        "id": "Me90zH2Q0j9y"
      },
      "outputs": [],
      "source": [
        "df.columns"
      ]
    },
    {
      "cell_type": "code",
      "execution_count": null,
      "metadata": {
        "id": "H3tRuBH-0j9z"
      },
      "outputs": [],
      "source": [
        "df=df[['session_id', 'timestamp', 'user_id', 'product_id', 'event_type',\n",
        "       'offered_discount', 'price']]"
      ]
    },
    {
      "cell_type": "code",
      "execution_count": null,
      "metadata": {
        "id": "kmZ4IBPr0j90"
      },
      "outputs": [],
      "source": [
        "df['timestamp']=pd.to_datetime(df.timestamp)\n",
        "df['month'] = df['timestamp'].dt.month"
      ]
    },
    {
      "cell_type": "code",
      "execution_count": null,
      "metadata": {
        "id": "sH3keUkl0j92"
      },
      "outputs": [],
      "source": [
        "df"
      ]
    },
    {
      "cell_type": "code",
      "execution_count": null,
      "metadata": {
        "id": "iHaOXq4T0j94"
      },
      "outputs": [],
      "source": [
        "product_df[product_df.product_id==1544]  \n",
        "\n",
        "####### uwaga - niektóre produkty mają ujemne ceny, a niektóre są ogromne - trzeba sprawdzić ile takich jest\n",
        "###### czy jednostki są te same? - pytanie do klienta\n"
      ]
    },
    {
      "cell_type": "code",
      "execution_count": null,
      "metadata": {
        "id": "AXJbQy-V0j95"
      },
      "outputs": [],
      "source": [
        "def f(event_type, price):\n",
        "    if event_type==1:\n",
        "        return price\n",
        "    else: \n",
        "        return 0\n",
        "    \n",
        "\n",
        "df['purchase']= df.apply(lambda x: f(x.event_type, x.price), axis=1)\n",
        "# drop 'price' column"
      ]
    },
    {
      "cell_type": "code",
      "execution_count": null,
      "metadata": {
        "id": "UdCROyVJ0j96"
      },
      "outputs": [],
      "source": [
        "df"
      ]
    },
    {
      "cell_type": "code",
      "execution_count": null,
      "metadata": {
        "id": "cfV9uJEO0j96"
      },
      "outputs": [],
      "source": [
        "# gdy będzie więcej danych zrobimy jeszcze zbiór val\n",
        "df_train = df[df.month!=3]\n",
        "df_test = df[df.month==3]"
      ]
    },
    {
      "cell_type": "code",
      "execution_count": null,
      "metadata": {
        "id": "43vmysYz0j97"
      },
      "outputs": [],
      "source": [
        "df.loc[(df.user_id==102.0) & (df.event_type==1)]"
      ]
    },
    {
      "cell_type": "code",
      "execution_count": null,
      "metadata": {
        "id": "ilpPQLNf0j98"
      },
      "outputs": [],
      "source": [
        "#### przykładowy klient\n",
        "d102=df_train[df_train['user_id']==102]\n",
        "d102"
      ]
    },
    {
      "cell_type": "code",
      "execution_count": null,
      "metadata": {
        "id": "1S7m27OA0j99"
      },
      "outputs": [],
      "source": [
        "train_users_total_sum=df_train.groupby('user_id')['purchase'].sum()\n",
        "train_users_mean_discount=df_train.groupby('user_id')['offered_discount'].mean()\n",
        "train_users_corr_purchase_discount=df_train.groupby('user_id').apply(lambda x: np.corrcoef(x.purchase, x.offered_discount)[0][1])"
      ]
    },
    {
      "cell_type": "code",
      "execution_count": null,
      "metadata": {
        "id": "UKfPG53-0j9-"
      },
      "outputs": [],
      "source": [
        "# https://stackoverflow.com/questions/55649356/how-can-i-detect-if-trend-is-increasing-or-decreasing-in-time-series\n",
        "\n",
        "def trenddetector(array_of_data, order=1):\n",
        "    array_of_data=list(array_of_data[array_of_data!=0])\n",
        "\n",
        "    if len(array_of_data)<2:\n",
        "        return 0\n",
        "    else:\n",
        "        result = np.polyfit(np.arange(len(array_of_data)), list(array_of_data), order)\n",
        "        slope = result[-2]\n",
        "        return float(slope)"
      ]
    },
    {
      "cell_type": "code",
      "execution_count": null,
      "metadata": {
        "id": "_kCQMAF90j9_"
      },
      "outputs": [],
      "source": [
        "train_users_purchase_trend=df_train.groupby('user_id')['purchase'].apply(lambda x: trenddetector(x))"
      ]
    },
    {
      "cell_type": "code",
      "execution_count": null,
      "metadata": {
        "id": "1HRUd1ng0j-A"
      },
      "outputs": [],
      "source": [
        "df_train_users=pd.DataFrame({'total_sum': train_users_total_sum, \n",
        "                             'mean_discount': train_users_mean_discount, \n",
        "                             'corr_purchase_discount': train_users_corr_purchase_discount,\n",
        "                            'spending_trend': train_users_purchase_trend})\n",
        "\n",
        "\n",
        "# train_users_purchase_trend - wartości mają duży rozrzut, \n",
        "# więc potrzebna będzie normalizacja, albo jednak rezygnacja z tej zmiennej"
      ]
    },
    {
      "cell_type": "code",
      "execution_count": null,
      "metadata": {
        "id": "xJhKtFHP0j-C"
      },
      "outputs": [],
      "source": [
        "df_train_users\n",
        "### rozumiemy, że w żaden sposób nie możemy używać user_id, tak aby rozwiązanie było jak najbardziej ogólne"
      ]
    },
    {
      "cell_type": "code",
      "execution_count": null,
      "metadata": {
        "id": "DnnfqhBM0j-C"
      },
      "outputs": [],
      "source": [
        "# w tabeli powyżej trzeba dokleić info o wydanej sumie w kolejnym miesiącu\n",
        "# może warto dodać info o znaczniku czasu"
      ]
    },
    {
      "cell_type": "markdown",
      "metadata": {
        "id": "90H4F3ZF0j-D"
      },
      "source": [
        "Trzeba przeanalizować ceny produktów"
      ]
    },
    {
      "cell_type": "code",
      "execution_count": null,
      "metadata": {
        "id": "GyENrRnZ0j-E"
      },
      "outputs": [],
      "source": [
        "plt.hist(df.purchase)  ### ile klienci wydali w ciągu ostatnich 2 miesięcy"
      ]
    },
    {
      "cell_type": "code",
      "execution_count": null,
      "metadata": {
        "id": "farBKuza0j-F"
      },
      "outputs": [],
      "source": [
        "plt.hist(np.log1p(df.purchase)) #zlogarytmowane wydatki miesięczne klientów"
      ]
    },
    {
      "cell_type": "code",
      "execution_count": null,
      "metadata": {
        "id": "hjqtNyzu0j-F"
      },
      "outputs": [],
      "source": [
        ""
      ]
    },
    {
      "cell_type": "code",
      "execution_count": null,
      "metadata": {
        "id": "sBlZ2HUf0j-F"
      },
      "outputs": [],
      "source": [
        ""
      ]
    },
    {
      "cell_type": "code",
      "execution_count": null,
      "metadata": {
        "id": "ruC9juwx0j-G"
      },
      "outputs": [],
      "source": [
        ""
      ]
    },
    {
      "cell_type": "code",
      "execution_count": null,
      "metadata": {
        "id": "2_ZD-tg80j-G"
      },
      "outputs": [],
      "source": [
        ""
      ]
    },
    {
      "cell_type": "code",
      "execution_count": null,
      "metadata": {
        "id": "acDsT8IB0j-G"
      },
      "outputs": [],
      "source": [
        ""
      ]
    },
    {
      "cell_type": "code",
      "execution_count": null,
      "metadata": {
        "id": "9TZ8xc2x0j-H"
      },
      "outputs": [],
      "source": [
        ""
      ]
    },
    {
      "cell_type": "code",
      "execution_count": null,
      "metadata": {
        "id": "7jDUB4yO0j-I"
      },
      "outputs": [],
      "source": [
        ""
      ]
    },
    {
      "cell_type": "code",
      "execution_count": null,
      "metadata": {
        "id": "6Ajc24md0j-J"
      },
      "outputs": [],
      "source": [
        ""
      ]
    },
    {
      "cell_type": "markdown",
      "metadata": {
        "id": "p5eFR-jt0j-J"
      },
      "source": [
        "# TRZEBA SPRAWDZIĆ CZY COŚ ZE STARSZYCH ANALIZ MOŻE SIĘ PRZYDAĆ"
      ]
    },
    {
      "cell_type": "markdown",
      "metadata": {
        "id": "zDMZFfpM0j-K"
      },
      "source": [
        "# Dodatkowe analizy eksploracyjne"
      ]
    },
    {
      "cell_type": "markdown",
      "metadata": {
        "id": "e7OoOnZz0j-K"
      },
      "source": [
        "Ile czynności ooglądania produktu na stronie zakończyło się zakupem?"
      ]
    },
    {
      "cell_type": "code",
      "execution_count": null,
      "metadata": {
        "id": "Lo1Tte070j-K"
      },
      "outputs": [],
      "source": [
        "ax = sns.countplot(x=\"event_type\", data=data_df)"
      ]
    },
    {
      "cell_type": "markdown",
      "source": [
        "Ile sesji skończyły się zakupem towaru na każdego użytkownika (sessions per user)?"
      ],
      "metadata": {
        "id": "_iW6WjWnG10v"
      }
    },
    {
      "cell_type": "code",
      "source": [
        "sessions_count = pd.DataFrame(session_df[session_df[\"event_type\"] == 1]).groupby('user_id').count()[\"purchase_id\"]\n",
        "sessions_count = sessions_count.reset_index().rename(columns={\"purchase_id\": 'successfull_sessions'})\n",
        "\n",
        "sessions_count\n",
        "\n",
        "users_data = pd.read_json('data/users.jsonl', lines=True)\n",
        "\n",
        "data_per_user = pd.merge(sessions_count, users_data, on='user_id', how='outer')\n",
        "data_per_user['successfull_sessions'].fillna(0, inplace=True)\n",
        "data_per_user"
      ],
      "metadata": {
        "id": "YCr4xEo0G_xd"
      },
      "execution_count": null,
      "outputs": []
    },
    {
      "cell_type": "markdown",
      "source": [
        "Ile zapłacił pojedyńczy klient uwzględniając zniżki?"
      ],
      "metadata": {
        "id": "wfbxAttMJrqe"
      }
    },
    {
      "cell_type": "code",
      "source": [
        "sessions_length = len(session_df)\n",
        "\n",
        "successful_sessions = session_df[session_df[\"event_type\"] == 1]\n",
        "\n",
        "prices = pd.merge(successful_sessions, product_df, on='product_id', how='inner')\n",
        "prices['price_incl_discount'] = prices['price'] - (prices['price'] * (prices['offered_discount'] / 100))\n",
        "\n",
        "#prices.price.hist()\n",
        "\n",
        "money_spent_per_user = prices.groupby('user_id').sum()['price_incl_discount']\n",
        "money_spent_per_user = pd.DataFrame(money_spent_per_user)\n",
        "money_spent_per_user['user_id'] = money_spent_per_user.index\n",
        "money_spent_per_user.reset_index(drop=True, inplace=True)"
      ],
      "metadata": {
        "id": "KOprdz08J-CL"
      },
      "execution_count": null,
      "outputs": []
    },
    {
      "cell_type": "markdown",
      "source": [
        "Ile dni minęło od ostatniego zakupu klienta?"
      ],
      "metadata": {
        "id": "5-bJ5AZ-MH2H"
      }
    },
    {
      "cell_type": "code",
      "source": [
        "time_diff = session_df[['user_id', 'timestamp', 'event_type']]\n",
        "bought_time_diff = session_df[session_df.event_type == 1][['user_id', 'timestamp', 'event_type']]\n",
        "bought_time_diff.reset_index(drop=True, inplace=True)\n",
        "bought_time_diff\n",
        "\n",
        "last_purchase_by_client = bought_time_diff.groupby('user_id').max()\n",
        "last_purchase_by_client.columns = ['last_purchase_time', 'event_type'] \n",
        "last_purchase_by_client['now'] = pd.Timestamp.now()\n",
        "\n",
        "no_bought_time = (last_purchase_by_client.now - last_purchase_by_client.last_purchase_time).dt.days\n",
        "no_bought_time = pd.DataFrame(no_bought_time)\n",
        "no_bought_time.columns = ['days_after_last_purchase']\n",
        "\n",
        "no_bought_time"
      ],
      "metadata": {
        "id": "9xcWOePxMP2z"
      },
      "execution_count": null,
      "outputs": []
    },
    {
      "cell_type": "markdown",
      "source": [
        "Częstotliwość zakupów przez klienta"
      ],
      "metadata": {
        "id": "YAml6550Z_pw"
      }
    },
    {
      "cell_type": "code",
      "source": [
        "first_purchase_by_client = bought_time_diff.groupby('user_id').min()\n",
        "\n",
        "first_purchase_by_client.columns = ['first_purchase_time', 'event_type']\n",
        "first_purchase_by_client\n",
        "\n",
        "purchases = pd.DataFrame((last_purchase_by_client.last_purchase_time - first_purchase_by_client.first_purchase_time).dt.days)\n",
        "purchases.columns = ['time_between_first_and_last_purchase']\n",
        "\n",
        "purchases['time_between_first_purchase_and_now'] = (pd.Timestamp.now() - first_purchase_by_client.first_purchase_time).dt.days\n",
        "purchases['number_of_purchases'] = bought_time_diff.groupby('user_id').count().timestamp\n",
        "purchases['purchase_frequency_by_user_between_first_and_last_per_day'] = purchases['number_of_purchases'] / purchases['time_between_first_and_last_purchase'] \n",
        "purchases['purchase_frequency_by_user_between_first_and_now_per_day'] = purchases['number_of_purchases'] / purchases['time_between_first_purchase_and_now']\n",
        "\n",
        "purchases"
      ],
      "metadata": {
        "id": "NEMWFC2IaJFc"
      },
      "execution_count": null,
      "outputs": []
    },
    {
      "cell_type": "markdown",
      "metadata": {
        "id": "U_A0usrI0j-L"
      },
      "source": [
        "Ile razy produktów w ramach sesji uczestnicy oglądali?"
      ]
    },
    {
      "cell_type": "code",
      "execution_count": null,
      "metadata": {
        "id": "VUwiwM8F0j-L"
      },
      "outputs": [],
      "source": [
        "session_product=data_df.groupby(['session_id'])['product_id'].count()\n",
        "plt.hist(session_product)"
      ]
    },
    {
      "cell_type": "code",
      "execution_count": null,
      "metadata": {
        "id": "VBo8HC8_0j-M"
      },
      "outputs": [],
      "source": [
        "session_results=data_df.groupby(['session_id'])['event_type'].min()  #### to check whether it works exactly how I would like it to work"
      ]
    },
    {
      "cell_type": "code",
      "execution_count": null,
      "metadata": {
        "id": "BLYwMUWF0j-M"
      },
      "outputs": [],
      "source": [
        "session_prod_event=pd.DataFrame(session_product).join(pd.DataFrame(session_results))\n",
        "session_prod_event.sort_values(by=['product_id'], inplace=True)  ## it would be good to change column names\n",
        "\n",
        "### tutaj gdy product_id==0 to oznacza, że w oryginalnych danych było NaN"
      ]
    },
    {
      "cell_type": "code",
      "execution_count": null,
      "metadata": {
        "id": "gvSuIdnC0j-N"
      },
      "outputs": [],
      "source": [
        "session_prod_event['event_type']=session_prod_event['event_type'].map({'VIEW_PRODUCT':0, 'BUY_PRODUCT':1})"
      ]
    },
    {
      "cell_type": "code",
      "execution_count": null,
      "metadata": {
        "id": "qBkxCslB0j-N"
      },
      "outputs": [],
      "source": [
        "n_prod_buy=session_prod_event.groupby(['product_id'])['event_type'].mean()\n",
        "plt.bar(n_prod_buy.index, n_prod_buy)\n",
        "plt.xlabel('liczba oglądanych produktów')\n",
        "plt.ylabel('prawdopodobieństwo zakupu')"
      ]
    },
    {
      "cell_type": "markdown",
      "metadata": {
        "id": "FKAEbcRw0j-O"
      },
      "source": [
        "Wstępna analiza pokazuje, że istnieje zależność, że im więcej ktoś przejrzał produktów, tym szansa, że coś kupi wzrasta."
      ]
    },
    {
      "cell_type": "code",
      "execution_count": null,
      "metadata": {
        "id": "jFEQPfC70j-Z"
      },
      "outputs": [],
      "source": [
        "data_df"
      ]
    },
    {
      "cell_type": "markdown",
      "source": [
        "Długość trwania dostawy do klientów"
      ],
      "metadata": {
        "id": "sUKIdjGTexaR"
      }
    },
    {
      "cell_type": "code",
      "source": [
        "delivery_df = pd.read_json('data/deliveries.jsonl', lines=True)\n",
        "\n",
        "delivery_sessions = pd.merge(session_df, delivery_df, on='purchase_id', how='inner')\n",
        "\n",
        "fmt = '%Y-%m-%dT%H:%M:%S'\n",
        "delivery_sessions['purchase_timestamp'] = pd.to_datetime(delivery_sessions['purchase_timestamp'], format=fmt, errors='coerce')\n",
        "delivery_sessions['delivery_timestamp'] = pd.to_datetime(delivery_sessions['delivery_timestamp'], format=fmt, errors='coerce')\n",
        "\n",
        "delivery_sessions['delivery_time'] = (delivery_sessions.delivery_timestamp - delivery_sessions.purchase_timestamp)\n",
        "delivery_sessions[['user_id', 'purchase_timestamp', 'delivery_timestamp', 'delivery_time']] "
      ],
      "metadata": {
        "id": "yQGt3QRthxuu"
      },
      "execution_count": null,
      "outputs": []
    },
    {
      "cell_type": "markdown",
      "source": [
        "Top 10 klientów według wydanych pieniędzy"
      ],
      "metadata": {
        "id": "02KwIv6Kod5-"
      }
    },
    {
      "cell_type": "code",
      "source": [
        "users.sort_values('price_incl_discount', ascending=False).head(10)"
      ],
      "metadata": {
        "id": "15ULB-zpo_GX"
      },
      "execution_count": null,
      "outputs": []
    },
    {
      "cell_type": "markdown",
      "source": [
        "Top 10 klientów według kupionych rzeczy"
      ],
      "metadata": {
        "id": "kkwdGJDxpBY9"
      }
    },
    {
      "cell_type": "code",
      "source": [
        "users.sort_values('successfull_sessions', ascending=False).head(10)"
      ],
      "metadata": {
        "id": "siLwBwLRpBJK"
      },
      "execution_count": null,
      "outputs": []
    },
    {
      "cell_type": "markdown",
      "metadata": {
        "id": "tx1TnJGS0j-a"
      },
      "source": [
        "## Analiza czasu trwania sesji"
      ]
    },
    {
      "cell_type": "code",
      "execution_count": null,
      "metadata": {
        "id": "5lcO8aT40j-a"
      },
      "outputs": [],
      "source": [
        "diff_time=data_df.groupby(['session_id'])['timestamp'].max()-data_df.groupby(['session_id'])['timestamp'].min()"
      ]
    },
    {
      "cell_type": "code",
      "execution_count": null,
      "metadata": {
        "id": "vGb0Mn820j-b"
      },
      "outputs": [],
      "source": [
        "d=pd.DataFrame(diff_time)\n",
        "d=d.reset_index()\n",
        "d.columns=['session_id', 'time_diff']"
      ]
    },
    {
      "cell_type": "markdown",
      "metadata": {
        "id": "CMGMFF0u0j-b"
      },
      "source": [
        "### w ramce danych do modelowania należy dać informację, ile całkowicie trwała sesja oraz ile produktów obejrzano"
      ]
    },
    {
      "cell_type": "code",
      "execution_count": null,
      "metadata": {
        "id": "s7QEU6pT0j-c"
      },
      "outputs": [],
      "source": [
        "d=d.sort_values(['time_diff'])\n",
        "d.index=d.session_id"
      ]
    },
    {
      "cell_type": "code",
      "execution_count": null,
      "metadata": {
        "id": "bGESYZTf0j-c"
      },
      "outputs": [],
      "source": [
        "session_results=session_results.map({'VIEW_PRODUCT':0, 'BUY_PRODUCT':1})"
      ]
    },
    {
      "cell_type": "code",
      "execution_count": null,
      "metadata": {
        "id": "T7u1pH_h0j-d"
      },
      "outputs": [],
      "source": [
        "d=d.join(session_results)\n",
        "d.drop('session_id', axis=1, inplace=True)"
      ]
    },
    {
      "cell_type": "code",
      "execution_count": null,
      "metadata": {
        "id": "ikkQ6tju0j-d"
      },
      "outputs": [],
      "source": [
        "d"
      ]
    },
    {
      "cell_type": "code",
      "execution_count": null,
      "metadata": {
        "id": "0KaykVHq0j-d"
      },
      "outputs": [],
      "source": [
        "d['time_diff'] = d['time_diff'].apply(lambda x: x.seconds)"
      ]
    },
    {
      "cell_type": "code",
      "execution_count": null,
      "metadata": {
        "id": "-ixMbRdg0j-e"
      },
      "outputs": [],
      "source": [
        "plt.hist(d['time_diff'])\n",
        "plt.xlabel('czas trwania sesji')"
      ]
    },
    {
      "cell_type": "code",
      "execution_count": null,
      "metadata": {
        "id": "SrWJyb8Z0j-e"
      },
      "outputs": [],
      "source": [
        "## Warto byłoby dodać wizualizację jaka jest relacja między czasem trwania sesji a zakupem "
      ]
    },
    {
      "cell_type": "markdown",
      "metadata": {
        "id": "yvLyveaN0j-f"
      },
      "source": [
        "## Dodatkowe analizy"
      ]
    },
    {
      "cell_type": "markdown",
      "metadata": {
        "id": "Z-pZMhZ20j-f"
      },
      "source": [
        "Ile razy dany produkt był kupiony?"
      ]
    },
    {
      "cell_type": "code",
      "execution_count": null,
      "metadata": {
        "id": "rVXWkKk10j-f"
      },
      "outputs": [],
      "source": [
        "plt.figure(figsize=(10,10))\n",
        "sns.countplot(data_df[data_df.event_type=='BUY_PRODUCT'].groupby('product_id')['product_id'].count())"
      ]
    },
    {
      "cell_type": "markdown",
      "metadata": {
        "id": "BAr0ldWf0j-g"
      },
      "source": [
        "Jaki jest najwyższy współczynnik liczby sprzedaży danego produktu liczby jego oglądania?"
      ]
    },
    {
      "cell_type": "code",
      "execution_count": null,
      "metadata": {
        "id": "M41DBAbz0j-h"
      },
      "outputs": [],
      "source": [
        "df_tmp.groupby('product_id')['event_type'].mean().max()"
      ]
    },
    {
      "cell_type": "markdown",
      "metadata": {
        "id": "cLnnRmLY0j-h"
      },
      "source": [
        "# Braki w danych"
      ]
    },
    {
      "cell_type": "code",
      "execution_count": null,
      "metadata": {
        "id": "DA3K4kmZ0j-h"
      },
      "outputs": [],
      "source": [
        "3097/44345 "
      ]
    },
    {
      "cell_type": "markdown",
      "metadata": {
        "id": "76aqmOFJ0j-i"
      },
      "source": [
        "Wniosek: Braki występują w kolumnach: *used_id*, *product_id* oraz *purchase_id*. Było to uwidocznione w pierwsze analizie po wczytaniu danych. Szczególnie dużo jest ich w ostatnio wymienionej kolumnie, gdzie tylko ok. 7% rekordów ma zdefiniowaną wartość. W przypadku pozostałych kolumn braki stanowią jedynie ok. 5\\%."
      ]
    },
    {
      "cell_type": "markdown",
      "metadata": {
        "id": "xL76G9-H0j-i"
      },
      "source": [
        "Zweryfikowano czy duża liczba braków w kolumnie *purchase_id* wynika z tego, że niewielka liczba sesji polegających na oglądaniu konkretnego produktu zakończyła się zakupem. "
      ]
    },
    {
      "cell_type": "code",
      "execution_count": null,
      "metadata": {
        "id": "TTtlgR-10j-j"
      },
      "outputs": [],
      "source": [
        "df_view_prod=data_df[data_df['event_type']=='VIEW_PRODUCT']\n",
        "\n",
        "np.sum(np.isnan(df_view_prod.purchase_id))/len(df_view_prod)"
      ]
    },
    {
      "cell_type": "markdown",
      "metadata": {
        "id": "e8Crzouv0j-j"
      },
      "source": [
        "Okazuje się, że brak wartości w kolumnie *purchase_id* wynika z braku zakupu. Braki więc nie mają charakteru losowego, a wynikają z charakteru i logiki danych. "
      ]
    },
    {
      "cell_type": "markdown",
      "metadata": {
        "id": "kyrJv0Ep0j-k"
      },
      "source": [
        "W tej sytuacji można byłoby zamienić braki na wartość neutralną, czyli taką jaka nie występuje w kolumnie *purchase_id* - np. 0 albo -1."
      ]
    },
    {
      "cell_type": "code",
      "execution_count": null,
      "metadata": {
        "id": "vaoG7MDn0j-k"
      },
      "outputs": [],
      "source": [
        "data_df[data_df.user_id.isnull()]"
      ]
    },
    {
      "cell_type": "code",
      "execution_count": null,
      "metadata": {
        "id": "xE6b9R8B0j-m"
      },
      "outputs": [],
      "source": [
        "data_df[data_df.product_id.isnull()]"
      ]
    },
    {
      "cell_type": "markdown",
      "metadata": {
        "id": "fGQnAtqW0j-o"
      },
      "source": [
        "Nie widać jasnego powodu dlaczego w ok. 5% przypadków występuje brak w kolumnie *user_id* i *product_id*, dlatego też nie podejrzewa się informatywnego błędu systematycznego. **W tej sytuacji wiersze z brakami w tymi kolumnach podda się usunięciu.**"
      ]
    },
    {
      "cell_type": "code",
      "execution_count": null,
      "metadata": {
        "id": "sjyGjgqv0j-o"
      },
      "outputs": [],
      "source": [
        "data_df=data_df[data_df.user_id.notnull()]\n",
        "data_df=data_df[data_df.product_id.notnull()]\n",
        "data_df.shape"
      ]
    },
    {
      "cell_type": "markdown",
      "metadata": {
        "id": "hNJwqVR00j-p"
      },
      "source": [
        "Można by było też zamienić na jakieś wartości, ale skoro braków jest mało, to chyba mała strata."
      ]
    },
    {
      "cell_type": "markdown",
      "metadata": {
        "id": "btsXlN3y0j-p"
      },
      "source": [
        "Liczba użytkowników:"
      ]
    },
    {
      "cell_type": "code",
      "execution_count": null,
      "metadata": {
        "id": "DdKzY3Ig0j-q"
      },
      "outputs": [],
      "source": [
        "len(np.unique(data_df.user_id))"
      ]
    },
    {
      "cell_type": "markdown",
      "metadata": {
        "id": "hxGeQp2e0j-q"
      },
      "source": [
        "Liczba sesji:"
      ]
    },
    {
      "cell_type": "code",
      "execution_count": null,
      "metadata": {
        "id": "oNHfFREx0j-r"
      },
      "outputs": [],
      "source": [
        "len(np.unique(data_df.session_id))"
      ]
    },
    {
      "cell_type": "markdown",
      "metadata": {
        "id": "tj4rCmqP0j-s"
      },
      "source": [
        "Liczba produktów:"
      ]
    },
    {
      "cell_type": "code",
      "execution_count": null,
      "metadata": {
        "id": "fqpJRN3z0j-s"
      },
      "outputs": [],
      "source": [
        "len(np.unique(data_df.product_id))"
      ]
    },
    {
      "cell_type": "code",
      "execution_count": null,
      "metadata": {
        "id": "FoeQ_Sda0j-t"
      },
      "outputs": [],
      "source": [
        "ax = sns.countplot(x=\"offered_discount\", data=data_df)"
      ]
    },
    {
      "cell_type": "markdown",
      "metadata": {
        "id": "gjVylVQY0j-t"
      },
      "source": [
        "# Time analysis"
      ]
    },
    {
      "cell_type": "markdown",
      "metadata": {
        "id": "8npyV4wI0j-u"
      },
      "source": [
        "There is no information about time zone therefore we assume that everything is in the same timezone."
      ]
    },
    {
      "cell_type": "code",
      "execution_count": null,
      "metadata": {
        "id": "4Ju_4q720j-v"
      },
      "outputs": [],
      "source": [
        "data_df['timestamp']=pd.to_datetime(data_df.timestamp)"
      ]
    },
    {
      "cell_type": "code",
      "execution_count": null,
      "metadata": {
        "id": "bT8hq6kq0j-v"
      },
      "outputs": [],
      "source": [
        "data_df['date']=data_df['timestamp'].dt.date"
      ]
    },
    {
      "cell_type": "code",
      "execution_count": null,
      "metadata": {
        "id": "RXEJhr8l0j-w"
      },
      "outputs": [],
      "source": [
        "data_df['time']=data_df['timestamp'].dt.time\n",
        "data_df['day']=data_df['timestamp'].dt.day\n",
        "data_df['month']=data_df['timestamp'].dt.month\n",
        "data_df['year']=data_df['timestamp'].dt.year\n",
        "\n",
        "#data_df.drop('timestamp', axis=1, inplace=True)"
      ]
    },
    {
      "cell_type": "code",
      "execution_count": null,
      "metadata": {
        "id": "Luh8sAUV0j-x"
      },
      "outputs": [],
      "source": [
        "np.unique(data_df.year)"
      ]
    },
    {
      "cell_type": "markdown",
      "metadata": {
        "id": "0X5FuYKV0j-x"
      },
      "source": [
        "Wszystkie rekordy są z tego samego roku, więc informacja o roku nic nie wnosi i można ją usunąć."
      ]
    },
    {
      "cell_type": "code",
      "execution_count": null,
      "metadata": {
        "id": "WfoxOefD0j-y"
      },
      "outputs": [],
      "source": [
        "np.unique(data_df.month)"
      ]
    },
    {
      "cell_type": "markdown",
      "metadata": {
        "id": "5eAEvP-M0j-z"
      },
      "source": [
        "Informacje są tylko z pierwszego kwartału 2022r. "
      ]
    },
    {
      "cell_type": "code",
      "execution_count": null,
      "metadata": {
        "id": "IdYw7DzS0j-z"
      },
      "outputs": [],
      "source": [
        "print(pd.date_range(\n",
        "  start=\"2022-01-01\", end=\"2022-03-31\").difference(data_df.date))"
      ]
    },
    {
      "cell_type": "markdown",
      "metadata": {
        "id": "gUfoNJ4g0j-0"
      },
      "source": [
        "Okazuje się, że informacja nie jest z całych trzech miesięcy, tj. kończy się w dniu 28-03-2022."
      ]
    },
    {
      "cell_type": "code",
      "execution_count": null,
      "metadata": {
        "id": "OdccoX3K0j-1"
      },
      "outputs": [],
      "source": [
        "data_df['timestamp'][0].strftime(\"%w\")  # day of week  -- transform in such a way to df"
      ]
    },
    {
      "cell_type": "code",
      "execution_count": null,
      "metadata": {
        "id": "o9PNE1930j-1"
      },
      "outputs": [],
      "source": [
        "# we should have both info about day of week and day of month"
      ]
    },
    {
      "cell_type": "code",
      "execution_count": null,
      "metadata": {
        "id": "QD7Li2MI0j-2"
      },
      "outputs": [],
      "source": [
        "data_df['hour']=data_df['timestamp'].dt.hour"
      ]
    },
    {
      "cell_type": "code",
      "execution_count": null,
      "metadata": {
        "id": "6EKGpEA30j-2"
      },
      "outputs": [],
      "source": [
        "### hour, day of week, day of month - we will cyclic feature encoding"
      ]
    },
    {
      "cell_type": "markdown",
      "metadata": {
        "id": "KcbVxxrI0j-3"
      },
      "source": [
        "![image.png](attachment:image.png)"
      ]
    },
    {
      "cell_type": "markdown",
      "metadata": {
        "id": "ObLaUVG50j-3"
      },
      "source": [
        "https://www.kaggle.com/code/avanwyk/encoding-cyclical-features-for-deep-learning/notebook"
      ]
    },
    {
      "cell_type": "code",
      "execution_count": null,
      "metadata": {
        "id": "0n8q5DEr0j-5"
      },
      "outputs": [],
      "source": [
        "data_df['hour_sin'] = np.sin(2 * np.pi * data_df['hour']/23.0)\n",
        "data_df['hour_cos'] = np.cos(2 * np.pi * data_df['hour']/23.0)"
      ]
    },
    {
      "cell_type": "code",
      "execution_count": null,
      "metadata": {
        "id": "3o4gqoFe0j-6"
      },
      "outputs": [],
      "source": [
        "data_df"
      ]
    },
    {
      "cell_type": "markdown",
      "metadata": {
        "id": "6aLUs3980j-7"
      },
      "source": [
        "# Analiza zniżek"
      ]
    },
    {
      "cell_type": "code",
      "execution_count": null,
      "metadata": {
        "id": "B-RJ3odN0j-7"
      },
      "outputs": [],
      "source": [
        "plt.hist(data_df['offered_discount'], bins=20)"
      ]
    },
    {
      "cell_type": "code",
      "execution_count": null,
      "metadata": {
        "id": "76Z2Qgyo0j-8"
      },
      "outputs": [],
      "source": [
        "data_df['event_type']=data_df['event_type'].map({'VIEW_PRODUCT':0, 'BUY_PRODUCT':1})\n",
        "discount_buy=data_df.groupby(['offered_discount'])['event_type'].mean()\n",
        "plt.bar(discount_buy.index, discount_buy)"
      ]
    },
    {
      "cell_type": "code",
      "execution_count": null,
      "metadata": {
        "id": "nmwN6qlU0j-9"
      },
      "outputs": [],
      "source": [
        "discount_user=data_df.groupby(['user_id'])['offered_discount'].mean()\n",
        "plt.hist(discount_user)"
      ]
    },
    {
      "cell_type": "code",
      "execution_count": null,
      "metadata": {
        "id": "xXN57at70j--"
      },
      "outputs": [],
      "source": [
        ""
      ]
    },
    {
      "cell_type": "code",
      "execution_count": null,
      "metadata": {
        "id": "4FA2lPDG0j--"
      },
      "outputs": [],
      "source": [
        ""
      ]
    }
  ],
  "metadata": {
    "kernelspec": {
      "display_name": "Python 3",
      "language": "python",
      "name": "python3"
    },
    "language_info": {
      "codemirror_mode": {
        "name": "ipython",
        "version": 3
      },
      "file_extension": ".py",
      "mimetype": "text/x-python",
      "name": "python",
      "nbconvert_exporter": "python",
      "pygments_lexer": "ipython3",
      "version": "3.7.4"
    },
    "colab": {
      "name": "EDA_task5.ipynb",
      "provenance": [],
      "collapsed_sections": [
        "p5eFR-jt0j-J",
        "cLnnRmLY0j-h",
        "gjVylVQY0j-t"
      ]
    }
  },
  "nbformat": 4,
  "nbformat_minor": 0
}